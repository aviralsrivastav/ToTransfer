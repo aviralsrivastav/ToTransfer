{
 "cells": [
  {
   "cell_type": "code",
   "execution_count": 1,
   "id": "5d8a7a69",
   "metadata": {},
   "outputs": [],
   "source": [
    "import re"
   ]
  },
  {
   "cell_type": "code",
   "execution_count": 8,
   "id": "88b90c08",
   "metadata": {},
   "outputs": [],
   "source": [
    "str1='dbms is a great learninig platofrm which supports the database management system'"
   ]
  },
  {
   "cell_type": "code",
   "execution_count": 13,
   "id": "91041c7a",
   "metadata": {},
   "outputs": [
    {
     "name": "stdout",
     "output_type": "stream",
     "text": [
      "['Coffee', 'Tea', 'Milk']\n"
     ]
    }
   ],
   "source": [
    "str1='''<ul>\n",
    "  <li>Coffee</li>\n",
    "  <li>Tea</li>\n",
    "  <li>Milk</li>\n",
    "</ul>'''\n",
    "print(re.findall('<li>(.*)</li>',str1))"
   ]
  },
  {
   "cell_type": "code",
   "execution_count": 23,
   "id": "1caf5bc7",
   "metadata": {},
   "outputs": [
    {
     "name": "stdout",
     "output_type": "stream",
     "text": [
      "l d r z e f e\n",
      "r e f e d k g\n",
      "g b c o t r n\n",
      "u n i r x a i\n",
      "d n i k e t y\n",
      "g u z o e s d\n",
      "f o u l g r t\n"
     ]
    }
   ],
   "source": [
    "\n",
    "str1=' ldrzeferefedkggbcotrnunirxaidniketyguzoesdfoulgrt'\n",
    "list1=[]\n",
    "for i in range(1,7+1):\n",
    "    list2=[]\n",
    "    for j in range(1,8):\n",
    "        list2.append(str1[7*(i-1)+j])\n",
    "    list1.append(list2)\n",
    "a=[print(*i) for i in list1]\n"
   ]
  },
  {
   "cell_type": "code",
   "execution_count": null,
   "id": "7a1b5226",
   "metadata": {},
   "outputs": [],
   "source": [
    "size=int(math.sqrt(len(str1)))\n",
    "def to_up(word,i,j,len1):\n",
    "    if(size-(i+1)<0):\n",
    "        return 0\n",
    "    check_coordi=[]\n",
    "    for k in word:\n",
    "        ctr=0\n",
    "        if(list1[i][j]==k):\n",
    "            check_coordi.append([i,j])\n",
    "            i-=1\n",
    "            \n",
    "            \n",
    "def to_down(word,i,j,len1):\n",
    "    pass\n",
    "def to_right(word,i,j,len1):\n",
    "    pass\n",
    "def to_left(word,i,j,len1):\n",
    "    pass\n",
    "def to_right_up(word,i,j,len1):\n",
    "    pass\n",
    "def to_right_down(word,i,j,len1):\n",
    "    pass\n",
    "def to_left_up(word,i,j,len1):\n",
    "    pass\n",
    "def to_left_down(word,i,j,len1):\n",
    "    pass"
   ]
  },
  {
   "cell_type": "code",
   "execution_count": null,
   "id": "53a41bd2",
   "metadata": {},
   "outputs": [],
   "source": [
    "def check_from_here(word,i,j):\n",
    "    len1=len(word)\n",
    "    try1=to_up(word,i,j,len1)\n",
    "    if(try1):\n",
    "        return try1\n",
    "    try1=to_right_up(word,i,j,len1)\n",
    "    if(try1):\n",
    "        return try1\n",
    "    try1=to_right(word,i,j,len1)\n",
    "    if(try1):\n",
    "        return try1\n",
    "    try1=to_right_down(word,i,j,len1)\n",
    "    if(try1):\n",
    "        return try1\n",
    "    try1=to_down(word,i,j,len1)\n",
    "    if(try1):\n",
    "        return try1\n",
    "    try1=to_left_down(word,i,j,len1)\n",
    "    if(try1):\n",
    "        return try1\n",
    "    try1=to_left(word,i,j,len1)\n",
    "    if(try1):\n",
    "        return try1\n",
    "    try1=to_lef_up(word,i,j,len1)\n",
    "    if(try1):\n",
    "        return try1\n",
    "    return 0"
   ]
  },
  {
   "cell_type": "code",
   "execution_count": null,
   "id": "6dee0116",
   "metadata": {},
   "outputs": [],
   "source": []
  },
  {
   "cell_type": "code",
   "execution_count": null,
   "id": "7ae22c8f",
   "metadata": {},
   "outputs": [],
   "source": []
  },
  {
   "cell_type": "code",
   "execution_count": null,
   "id": "17c66cda",
   "metadata": {},
   "outputs": [],
   "source": [
    "words=['biker','crest','defer','doing','dug',\n",
    "       'dying','fez','foul','going','fox','going',\n",
    "       'rest','stark']\n",
    "words_coordi=[]\n",
    "for word in words:\n",
    "    flag=False\n",
    "    for i in range(7):\n",
    "        for j in range(7):\n",
    "            if(list1[i][j]==word[0]):\n",
    "                coordi=check_from_here(word,i,j):\n",
    "                if(coordi):\n",
    "                    words_coordi.append(coordi)\n",
    "                flag=True\n",
    "            if(flag):\n",
    "                break\n",
    "        if(flag):\n",
    "            break"
   ]
  },
  {
   "cell_type": "code",
   "execution_count": null,
   "id": "c0457c96",
   "metadata": {},
   "outputs": [],
   "source": []
  },
  {
   "cell_type": "code",
   "execution_count": 31,
   "id": "09e4c972",
   "metadata": {},
   "outputs": [
    {
     "ename": "TypeError",
     "evalue": "exceptions must derive from BaseException",
     "output_type": "error",
     "traceback": [
      "\u001b[1;31m---------------------------------------------------------------------------\u001b[0m",
      "\u001b[1;31mTypeError\u001b[0m                                 Traceback (most recent call last)",
      "\u001b[1;32m<ipython-input-31-75d3c93bb89a>\u001b[0m in \u001b[0;36m<module>\u001b[1;34m\u001b[0m\n\u001b[0;32m      1\u001b[0m \u001b[1;32mif\u001b[0m\u001b[1;33m(\u001b[0m\u001b[1;36m1\u001b[0m\u001b[1;33m)\u001b[0m\u001b[1;33m:\u001b[0m\u001b[1;33m\u001b[0m\u001b[1;33m\u001b[0m\u001b[0m\n\u001b[1;32m----> 2\u001b[1;33m     \u001b[1;32mraise\u001b[0m \u001b[1;34m'a'\u001b[0m\u001b[1;33m\u001b[0m\u001b[1;33m\u001b[0m\u001b[0m\n\u001b[0m",
      "\u001b[1;31mTypeError\u001b[0m: exceptions must derive from BaseException"
     ]
    }
   ],
   "source": [
    "if(1):\n",
    "    raise 'a'"
   ]
  },
  {
   "cell_type": "code",
   "execution_count": null,
   "id": "5f3ee2a3",
   "metadata": {},
   "outputs": [],
   "source": []
  }
 ],
 "metadata": {
  "kernelspec": {
   "display_name": "Python 3",
   "language": "python",
   "name": "python3"
  },
  "language_info": {
   "codemirror_mode": {
    "name": "ipython",
    "version": 3
   },
   "file_extension": ".py",
   "mimetype": "text/x-python",
   "name": "python",
   "nbconvert_exporter": "python",
   "pygments_lexer": "ipython3",
   "version": "3.8.8"
  }
 },
 "nbformat": 4,
 "nbformat_minor": 5
}
